{
  "nbformat": 4,
  "nbformat_minor": 0,
  "metadata": {
    "colab": {
      "provenance": [],
      "authorship_tag": "ABX9TyNB+PXNpAT6ltg3lkmD3Rrk",
      "include_colab_link": true
    },
    "kernelspec": {
      "name": "python3",
      "display_name": "Python 3"
    },
    "language_info": {
      "name": "python"
    }
  },
  "cells": [
    {
      "cell_type": "markdown",
      "metadata": {
        "id": "view-in-github",
        "colab_type": "text"
      },
      "source": [
        "<a href=\"https://colab.research.google.com/github/JayantBudania/my-first-pr/blob/main/Sudoku_Solver.ipynb\" target=\"_parent\"><img src=\"https://colab.research.google.com/assets/colab-badge.svg\" alt=\"Open In Colab\"/></a>"
      ]
    },
    {
      "cell_type": "code",
      "execution_count": null,
      "metadata": {
        "id": "c76WUdFKBzhL"
      },
      "outputs": [],
      "source": [
        "from typing import List, Tuple, Optional\n",
        "import time"
      ]
    },
    {
      "cell_type": "code",
      "source": [
        "Grid = List[List[int]]"
      ],
      "metadata": {
        "id": "6eBB2erZB7ET"
      },
      "execution_count": null,
      "outputs": []
    },
    {
      "cell_type": "code",
      "source": [
        "# Utility: pretty print the puzzle\n",
        "def print_grid(g: Grid) -> None:\n",
        "    for r in range(9):\n",
        "        if r % 3 == 0 and r != 0:\n",
        "            print(\"-\" * 21)\n",
        "        row = []\n",
        "        for c in range(9):\n",
        "            if c % 3 == 0 and c != 0:\n",
        "                row.append(\"|\")\n",
        "            row.append(str(g[r][c]) if g[r][c] != 0 else \".\")\n",
        "        print(\" \".join(row))\n",
        "    print()"
      ],
      "metadata": {
        "id": "DREzbZr-B-Nn"
      },
      "execution_count": null,
      "outputs": []
    },
    {
      "cell_type": "code",
      "source": [
        "# Check whether placing val at (r,c) is valid\n",
        "def is_valid(g: Grid, r: int, c: int, val: int) -> bool:\n",
        "    # row\n",
        "    for j in range(9):\n",
        "        if g[r][j] == val:\n",
        "            return False\n",
        "    # col\n",
        "    for i in range(9):\n",
        "        if g[i][c] == val:\n",
        "            return False\n",
        "    # 3x3 box\n",
        "    br = (r // 3) * 3\n",
        "    bc = (c // 3) * 3\n",
        "    for i in range(br, br + 3):\n",
        "        for j in range(bc, bc + 3):\n",
        "            if g[i][j] == val:\n",
        "                return False\n",
        "    return True"
      ],
      "metadata": {
        "id": "omC8t2RZB-P7"
      },
      "execution_count": null,
      "outputs": []
    },
    {
      "cell_type": "code",
      "source": [
        "# Return list of candidate values for cell (r,c)\n",
        "def candidates(g: Grid, r: int, c: int) -> List[int]:\n",
        "    if g[r][c] != 0:\n",
        "        return []\n",
        "    used = set()\n",
        "    used.update(g[r])  # row\n",
        "    used.update(g[i][c] for i in range(9))  # col\n",
        "    br = (r // 3) * 3\n",
        "    bc = (c // 3) * 3\n",
        "    for i in range(br, br + 3):\n",
        "        for j in range(bc, bc + 3):\n",
        "            used.add(g[i][j])\n",
        "    return [v for v in range(1, 10) if v not in used]"
      ],
      "metadata": {
        "id": "-xBVrtSBB-R-"
      },
      "execution_count": null,
      "outputs": []
    },
    {
      "cell_type": "code",
      "source": [
        "def select_unassigned_cell(g: Grid) -> Optional[Tuple[int,int]]:\n",
        "    best = None\n",
        "    best_count = 10\n",
        "    for i in range(9):\n",
        "        for j in range(9):\n",
        "            if g[i][j] == 0:\n",
        "                cand = candidates(g, i, j)\n",
        "                if len(cand) < best_count:\n",
        "                    best_count = len(cand)\n",
        "                    best = (i, j)\n",
        "                    if best_count == 1:\n",
        "                        return best\n",
        "    return best"
      ],
      "metadata": {
        "id": "a4N-5oxiB-VX"
      },
      "execution_count": null,
      "outputs": []
    },
    {
      "cell_type": "code",
      "source": [
        "# Backtracking solver with MRV; returns True if solved\n",
        "def solve_sudoku(g: Grid, stats: dict) -> bool:\n",
        "    cell = select_unassigned_cell(g)\n",
        "    if cell is None:\n",
        "        return True  # solved\n",
        "    r, c = cell\n",
        "    cand = candidates(g, r, c)\n",
        "    stats['calls'] += 1\n",
        "    # try candidates in increasing order\n",
        "    for val in cand:\n",
        "        if is_valid(g, r, c, val):\n",
        "            g[r][c] = val\n",
        "            if solve_sudoku(g, stats):\n",
        "                return True\n",
        "            g[r][c] = 0\n",
        "    return False"
      ],
      "metadata": {
        "id": "Q1Jl-NmgCQix"
      },
      "execution_count": null,
      "outputs": []
    },
    {
      "cell_type": "code",
      "source": [
        "# Helper to parse a puzzle given as 81-char string (0 or . for blanks) or 9x9 nested lists\n",
        "def parse_puzzle(p):\n",
        "    if isinstance(p, str):\n",
        "        s = p.replace(\"\\n\", \"\").replace(\" \", \"\")\n",
        "        if len(s) != 81:\n",
        "            raise ValueError(\"String puzzle must have 81 characters (use 0 or . for blanks).\")\n",
        "        g = []\n",
        "        for i in range(9):\n",
        "            row = []\n",
        "            for j in range(9):\n",
        "                ch = s[i*9 + j]\n",
        "                if ch in \"0.\":\n",
        "                    row.append(0)\n",
        "                elif ch.isdigit():\n",
        "                    row.append(int(ch))\n",
        "                else:\n",
        "                    raise ValueError(\"Invalid character in puzzle string.\")\n",
        "            g.append(row)\n",
        "        return g\n",
        "    elif isinstance(p, list):\n",
        "        # assume 9x9 list\n",
        "        if len(p) != 9 or any(len(row) != 9 for row in p):\n",
        "            raise ValueError(\"List puzzle must be 9x9.\")\n",
        "        return [list(map(int, row)) for row in p]\n",
        "    else:\n",
        "        raise ValueError(\"Unsupported puzzle format\")"
      ],
      "metadata": {
        "id": "9v6_i-qnCQmT"
      },
      "execution_count": null,
      "outputs": []
    },
    {
      "cell_type": "code",
      "source": [
        "a = (\n",
        "    \"530070000\"\n",
        "    \"600195000\"\n",
        "    \"098000060\"\n",
        "    \"800060003\"\n",
        "    \"400803001\"\n",
        "    \"700020006\"\n",
        "    \"060000280\"\n",
        "    \"000419005\"\n",
        "    \"000080079\"\n",
        ")\n",
        "\n",
        "b = (\n",
        "    \"000000000\"\n",
        "    \"000003085\"\n",
        "    \"001020000\"\n",
        "    \"000507000\"\n",
        "    \"004000100\"\n",
        "    \"090000000\"\n",
        "    \"500000073\"\n",
        "    \"002010000\"\n",
        "    \"000040009\"\n",
        ")\n"
      ],
      "metadata": {
        "id": "ngITz4llCjbw"
      },
      "execution_count": null,
      "outputs": []
    },
    {
      "cell_type": "code",
      "source": [
        "def run_and_time(puzzle_input):\n",
        "    grid = parse_puzzle(puzzle_input)\n",
        "    print(\"Input puzzle:\")\n",
        "    print_grid(grid)\n",
        "    stats = {'calls': 0}\n",
        "    t0 = time.time()\n",
        "    solved = solve_sudoku(grid, stats)\n",
        "    t1 = time.time()\n",
        "    if solved:\n",
        "        print(\"Solved puzzle:\")\n",
        "        print_grid(grid)\n",
        "    else:\n",
        "        print(\"No solution found.\")\n",
        "    print(f\"Time: {t1 - t0:.4f} s, recursive calls (select/unassigned): {stats['calls']}\")"
      ],
      "metadata": {
        "id": "WDpCF7YNCsj2"
      },
      "execution_count": null,
      "outputs": []
    },
    {
      "cell_type": "code",
      "source": [
        "if __name__ == \"__main__\":\n",
        "\n",
        "    run_and_time(a)"
      ],
      "metadata": {
        "colab": {
          "base_uri": "https://localhost:8080/"
        },
        "id": "0mK0qEOECw42",
        "outputId": "d20b5905-393e-4d64-b7ce-31545560d191"
      },
      "execution_count": null,
      "outputs": [
        {
          "output_type": "stream",
          "name": "stdout",
          "text": [
            "Input puzzle:\n",
            "5 3 . | . 7 . | . . .\n",
            "6 . . | 1 9 5 | . . .\n",
            ". 9 8 | . . . | . 6 .\n",
            "---------------------\n",
            "8 . . | . 6 . | . . 3\n",
            "4 . . | 8 . 3 | . . 1\n",
            "7 . . | . 2 . | . . 6\n",
            "---------------------\n",
            ". 6 . | . . . | 2 8 .\n",
            ". . . | 4 1 9 | . . 5\n",
            ". . . | . 8 . | . 7 9\n",
            "\n",
            "Solved puzzle:\n",
            "5 3 4 | 6 7 8 | 9 1 2\n",
            "6 7 2 | 1 9 5 | 3 4 8\n",
            "1 9 8 | 3 4 2 | 5 6 7\n",
            "---------------------\n",
            "8 5 9 | 7 6 1 | 4 2 3\n",
            "4 2 6 | 8 5 3 | 7 9 1\n",
            "7 1 3 | 9 2 4 | 8 5 6\n",
            "---------------------\n",
            "9 6 1 | 5 3 7 | 2 8 4\n",
            "2 8 7 | 4 1 9 | 6 3 5\n",
            "3 4 5 | 2 8 6 | 1 7 9\n",
            "\n",
            "Time: 0.0017 s, recursive calls (select/unassigned): 51\n"
          ]
        }
      ]
    },
    {
      "cell_type": "code",
      "source": [
        "if __name__ == \"__main__\":\n",
        "    # Run example 1 (easy)\n",
        "    run_and_time(b)"
      ],
      "metadata": {
        "id": "s45hiKTkC8xI",
        "outputId": "02372fb1-3445-48e2-972b-350eac555c20",
        "colab": {
          "base_uri": "https://localhost:8080/"
        }
      },
      "execution_count": null,
      "outputs": [
        {
          "output_type": "stream",
          "name": "stdout",
          "text": [
            "Input puzzle:\n",
            ". . . | . . . | . . .\n",
            ". . . | . . 3 | . 8 5\n",
            ". . 1 | . 2 . | . . .\n",
            "---------------------\n",
            ". . . | 5 . 7 | . . .\n",
            ". . 4 | . . . | 1 . .\n",
            ". 9 . | . . . | . . .\n",
            "---------------------\n",
            "5 . . | . . . | . 7 3\n",
            ". . 2 | . 1 . | . . .\n",
            ". . . | . 4 . | . . 9\n",
            "\n",
            "Solved puzzle:\n",
            "9 8 7 | 6 5 4 | 3 2 1\n",
            "2 4 6 | 1 7 3 | 9 8 5\n",
            "3 5 1 | 9 2 8 | 7 4 6\n",
            "---------------------\n",
            "1 2 8 | 5 3 7 | 6 9 4\n",
            "6 3 4 | 8 9 2 | 1 5 7\n",
            "7 9 5 | 4 6 1 | 8 3 2\n",
            "---------------------\n",
            "5 1 9 | 2 8 6 | 4 7 3\n",
            "4 7 2 | 3 1 9 | 5 6 8\n",
            "8 6 3 | 7 4 5 | 2 1 9\n",
            "\n",
            "Time: 4.2162 s, recursive calls (select/unassigned): 58233\n"
          ]
        }
      ]
    }
  ]
}